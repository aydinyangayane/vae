{
 "cells": [
  {
   "cell_type": "code",
   "execution_count": 1,
   "id": "5141f371",
   "metadata": {},
   "outputs": [],
   "source": [
    "import os\n",
    "import numpy as np\n",
    "import tensorflow as tf\n",
    "import tensorflow.keras.layers as L\n",
    "import matplotlib.pyplot as plt\n",
    "%matplotlib inline"
   ]
  },
  {
   "cell_type": "code",
   "execution_count": null,
   "id": "16aa9166",
   "metadata": {},
   "outputs": [],
   "source": [
    "from lfw_dataset import fetch_lfw_dataset\n",
    "data, attrs = fetch_lfw_dataset()"
   ]
  },
  {
   "cell_type": "code",
   "execution_count": null,
   "id": "24a39258",
   "metadata": {},
   "outputs": [],
   "source": [
    "X_train = data[:10000].reshape((10000, -1)).astype(np.float32) / 255.0\n",
    "X_val = data[10000:].reshape((-1, X_train.shape[1])).astype(np.float32) / 255.0"
   ]
  },
  {
   "cell_type": "code",
   "execution_count": null,
   "id": "9f928a56",
   "metadata": {},
   "outputs": [],
   "source": [
    "image_h = data.shape[1]\n",
    "image_w = data.shape[2]"
   ]
  },
  {
   "cell_type": "code",
   "execution_count": null,
   "id": "9bbe1991",
   "metadata": {},
   "outputs": [],
   "source": [
    "input_shape = X_train.shape[1:]\n",
    "latent_dim = 6075"
   ]
  },
  {
   "cell_type": "code",
   "execution_count": null,
   "id": "3c0baae2",
   "metadata": {},
   "outputs": [],
   "source": [
    "encoder_inputs = tf.keras.Input(shape = input_shape)\n",
    "encoder_hidden = L.Dense(256, activation = 'relu')(encoder_inputs)\n",
    "z_mean = L.Dense(latent_dim)(encoder_hidden)\n",
    "z_logvar = L.Dense(latent_dim)(encoder_hidden)\n",
    "encoder = tf.keras.Model(encoder_inputs, [z_mean, z_logvar])\n",
    "\n",
    "decoder_inputs = tf.keras.Input(shape = (latent_dim,))\n",
    "decoder_hidden = L.Dense(256, activation = 'relu')(decoder_inputs)\n",
    "decoder_outputs = L.Dense(np.prod(input_shape), activation = 'sigmoid')(decoder_hidden)\n",
    "decoder = tf.keras.Model(decoder_inputs, decoder_outputs)"
   ]
  },
  {
   "cell_type": "code",
   "execution_count": null,
   "id": "3355ac1c",
   "metadata": {},
   "outputs": [],
   "source": [
    "class VAE(tf.keras.Model):\n",
    "    def __init__(self, encoder, decoder):\n",
    "        super(VAE, self).__init__()\n",
    "        self.encoder = encoder\n",
    "        self.decoder = decoder\n",
    "\n",
    "    def KL_divergence(self, mu, logsigma):\n",
    "        kl_loss = -0.5 * tf.reduce_sum(1 + logsigma - tf.square(mu) - tf.exp(logsigma), axis=1)\n",
    "        return tf.reduce_mean(kl_loss)\n",
    "\n",
    "    def log_likelihood(self, x, z):\n",
    "        recon_loss = tf.reduce_sum(tf.square(x - self.decoder(z)), axis=1)\n",
    "        return tf.reduce_mean(recon_loss)\n",
    "\n",
    "    def train_step(self, x):\n",
    "        with tf.GradientTape() as tape:\n",
    "            mu, logsigma = self.encoder(x)\n",
    "            z = self.gaussian_sampler(mu, logsigma)\n",
    "            recon_loss = self.log_likelihood(x, z)\n",
    "            kl_loss = self.KL_divergence(mu, logsigma)\n",
    "            total_loss = recon_loss + kl_loss\n",
    "\n",
    "        gradients = tape.gradient(total_loss, self.trainable_variables)\n",
    "        self.optimizer.apply_gradients(zip(gradients, self.trainable_variables))\n",
    "\n",
    "        return {\"loss\": total_loss, \"kl_loss\": kl_loss, \"recon_loss\": recon_loss}\n",
    "\n",
    "    def call(self, x):\n",
    "        mu, logsigma = self.encoder(x)\n",
    "        z = self.gaussian_sampler(mu, logsigma)\n",
    "        return self.decoder(z)\n",
    "\n",
    "    def gaussian_sampler(self, mu, logsigma):\n",
    "        epsilon = tf.random.normal(shape=tf.shape(mu))\n",
    "        return mu + tf.exp(logsigma / 2) * epsilon"
   ]
  },
  {
   "cell_type": "code",
   "execution_count": null,
   "id": "1ef3a14c",
   "metadata": {},
   "outputs": [],
   "source": [
    "vae = VAE(encoder, decoder)\n",
    "vae.compile(optimizer=tf.keras.optimizers.Adam())"
   ]
  },
  {
   "cell_type": "code",
   "execution_count": null,
   "id": "204d77d4",
   "metadata": {},
   "outputs": [],
   "source": [
    "num_samples = 30\n",
    "z_samples = np.random.normal(shape = (num_samples, latent_dim))\n",
    "generated_images = vae.decoder(z_samples)"
   ]
  },
  {
   "cell_type": "code",
   "execution_count": null,
   "id": "f5799f8a",
   "metadata": {},
   "outputs": [],
   "source": [
    "history = vae.fit(X_train, X_train,\n",
    "                  epochs=10,\n",
    "                  shuffle=True,\n",
    "                  validation_data=(X_val, X_val))"
   ]
  }
 ],
 "metadata": {
  "kernelspec": {
   "display_name": "Python 3 (ipykernel)",
   "language": "python",
   "name": "python3"
  },
  "language_info": {
   "codemirror_mode": {
    "name": "ipython",
    "version": 3
   },
   "file_extension": ".py",
   "mimetype": "text/x-python",
   "name": "python",
   "nbconvert_exporter": "python",
   "pygments_lexer": "ipython3",
   "version": "3.9.13"
  }
 },
 "nbformat": 4,
 "nbformat_minor": 5
}
